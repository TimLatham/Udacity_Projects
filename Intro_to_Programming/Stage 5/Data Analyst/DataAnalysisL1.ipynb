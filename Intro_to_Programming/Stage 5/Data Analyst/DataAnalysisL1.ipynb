{
 "cells": [
  {
   "cell_type": "code",
   "execution_count": 1,
   "metadata": {
    "collapsed": false
   },
   "outputs": [
    {
     "data": {
      "text/plain": [
       "{u'account_key': u'448',\n",
       " u'cancel_date': u'2015-01-14',\n",
       " u'days_to_cancel': u'65',\n",
       " u'is_canceled': u'True',\n",
       " u'is_udacity': u'True',\n",
       " u'join_date': u'2014-11-10',\n",
       " u'status': u'canceled'}"
      ]
     },
     "execution_count": 1,
     "metadata": {},
     "output_type": "execute_result"
    }
   ],
   "source": [
    "import unicodecsv\n",
    "\n",
    "enrollments = []\n",
    "f = open('enrollments.csv', 'rb')\n",
    "# DictReader creates each row as a dictionary\n",
    "reader = unicodecsv.DictReader(f)\n",
    "\n",
    "for row in reader:\n",
    "    enrollments.append(row)\n",
    "    \n",
    "f.close\n",
    "\n",
    "enrollments[0]"
   ]
  },
  {
   "cell_type": "code",
   "execution_count": 2,
   "metadata": {
    "collapsed": false
   },
   "outputs": [
    {
     "data": {
      "text/plain": [
       "{u'account_key': u'448',\n",
       " u'cancel_date': u'2015-01-14',\n",
       " u'days_to_cancel': u'65',\n",
       " u'is_canceled': u'True',\n",
       " u'is_udacity': u'True',\n",
       " u'join_date': u'2014-11-10',\n",
       " u'status': u'canceled'}"
      ]
     },
     "execution_count": 2,
     "metadata": {},
     "output_type": "execute_result"
    }
   ],
   "source": [
    "# A more streamlined implmentation of the read\n",
    "import unicodecsv\n",
    "\n",
    "enrollments = []\n",
    "with open('enrollments.csv', 'rb') as f:\n",
    "    # DictReader creates each row as a dictionary\n",
    "    reader = unicodecsv.DictReader(f)\n",
    "\n",
    "    for row in reader:\n",
    "        enrollments.append(row)\n",
    "    \n",
    "enrollments[0]"
   ]
  },
  {
   "cell_type": "code",
   "execution_count": 3,
   "metadata": {
    "collapsed": false
   },
   "outputs": [
    {
     "data": {
      "text/plain": [
       "{u'account_key': u'448',\n",
       " u'cancel_date': u'2015-01-14',\n",
       " u'days_to_cancel': u'65',\n",
       " u'is_canceled': u'True',\n",
       " u'is_udacity': u'True',\n",
       " u'join_date': u'2014-11-10',\n",
       " u'status': u'canceled'}"
      ]
     },
     "execution_count": 3,
     "metadata": {},
     "output_type": "execute_result"
    }
   ],
   "source": [
    "# An even more streamlined implmentation of the read\n",
    "import unicodecsv\n",
    "\n",
    "with open('enrollments.csv', 'rb') as f:\n",
    "    reader = unicodecsv.DictReader(f)\n",
    "    enrollments = list(reader)\n",
    "        \n",
    "enrollments[0]"
   ]
  },
  {
   "cell_type": "code",
   "execution_count": 4,
   "metadata": {
    "collapsed": false
   },
   "outputs": [
    {
     "data": {
      "text/plain": [
       "{u'acct': u'0',\n",
       " u'lessons_completed': u'0.0',\n",
       " u'num_courses_visited': u'1.0',\n",
       " u'projects_completed': u'0.0',\n",
       " u'total_minutes_visited': u'11.6793745',\n",
       " u'utc_date': u'2015-01-09'}"
      ]
     },
     "execution_count": 4,
     "metadata": {},
     "output_type": "execute_result"
    }
   ],
   "source": [
    "with open('daily_engagement.csv', 'rb') as f:\n",
    "    reader = unicodecsv.DictReader(f)\n",
    "    daily_engagement = list(reader)\n",
    "        \n",
    "daily_engagement[0]"
   ]
  },
  {
   "cell_type": "code",
   "execution_count": 5,
   "metadata": {
    "collapsed": false
   },
   "outputs": [
    {
     "data": {
      "text/plain": [
       "{u'account_key': u'256',\n",
       " u'assigned_rating': u'UNGRADED',\n",
       " u'completion_date': u'2015-01-16',\n",
       " u'creation_date': u'2015-01-14',\n",
       " u'lesson_key': u'3176718735',\n",
       " u'processing_state': u'EVALUATED'}"
      ]
     },
     "execution_count": 5,
     "metadata": {},
     "output_type": "execute_result"
    }
   ],
   "source": [
    "with open('project_submissions.csv', 'rb') as f:\n",
    "    reader = unicodecsv.DictReader(f)\n",
    "    project_submissions = list(reader)\n",
    "        \n",
    "project_submissions[0]"
   ]
  },
  {
   "cell_type": "code",
   "execution_count": null,
   "metadata": {
    "collapsed": true
   },
   "outputs": [],
   "source": []
  }
 ],
 "metadata": {
  "anaconda-cloud": {},
  "kernelspec": {
   "display_name": "Python [default]",
   "language": "python",
   "name": "python2"
  },
  "language_info": {
   "codemirror_mode": {
    "name": "ipython",
    "version": 2
   },
   "file_extension": ".py",
   "mimetype": "text/x-python",
   "name": "python",
   "nbconvert_exporter": "python",
   "pygments_lexer": "ipython2",
   "version": "2.7.12"
  }
 },
 "nbformat": 4,
 "nbformat_minor": 1
}
